{
  "nbformat": 4,
  "nbformat_minor": 0,
  "metadata": {
    "colab": {
      "name": "Copy of Encrypt and Decrypt - Class.ipynb",
      "provenance": [],
      "collapsed_sections": [],
      "authorship_tag": "ABX9TyPKX90ER7yOFDVUGeD6iX8R",
      "include_colab_link": true
    },
    "kernelspec": {
      "name": "python3",
      "display_name": "Python 3"
    }
  },
  "cells": [
    {
      "cell_type": "markdown",
      "metadata": {
        "id": "view-in-github",
        "colab_type": "text"
      },
      "source": [
        "<a href=\"https://colab.research.google.com/github/ellkrauze/bingestudying101/blob/master/encrypt_decrypt.ipynb\" target=\"_parent\"><img src=\"https://colab.research.google.com/assets/colab-badge.svg\" alt=\"Open In Colab\"/></a>"
      ]
    },
    {
      "cell_type": "code",
      "metadata": {
        "id": "oBbh2Kt81GUs",
        "colab_type": "code",
        "colab": {}
      },
      "source": [
        "import numpy as np"
      ],
      "execution_count": 0,
      "outputs": []
    },
    {
      "cell_type": "code",
      "metadata": {
        "id": "n59O8Ra1tkaj",
        "colab_type": "code",
        "colab": {}
      },
      "source": [
        "class Coding:\n",
        "  def __init__(self):\n",
        "    self.input_word = self.load()\n",
        "    self.encoded_word = self.encode()\n",
        "    self.decoded_word = self.decode()\n",
        "\n",
        "  def load(self):\n",
        "    file_name = \"input.txt\"\n",
        "    input_word = \"\"\n",
        "    with open(file_name, 'r') as file:\n",
        "      input_word = file.read().replace(' ', '').lower()\n",
        "    return input_word\n",
        "\n",
        "  def playfair(self):\n",
        "    alph = 'abcdefghiklmnopqrstuvwxyz' # alphabet without j-letter\n",
        "    key = 'lemon'\n",
        "    encoded_word = ''\n",
        "    size = 5\n",
        "    key_index = 0\n",
        "    alph_index = 0\n",
        "    matrix = np.zeros((size, size))\n",
        "    \n",
        "    # delete all letters from alphabet that are in key word\n",
        "    for letter in alph:\n",
        "      if letter in key:\n",
        "        alph = alph.replace(letter,'')\n",
        "\n",
        "    # creating a playfair matrix 5x5 \n",
        "    for x in range(size): \n",
        "        for y in range(size):\n",
        "            if key_index != len(key):\n",
        "              matrix[x][y] = key[key_index]\n",
        "              key_index += 1\n",
        "            else:\n",
        "              matrix[x][y] = alph[alph_index]\n",
        "              alph_index += 1\n",
        "    \n",
        "    # check if the input word has an odd length \n",
        "    # check if the input word has doubled letter\n",
        "    # fill the list of pairs of letters\n",
        "    pairs = []\n",
        "    if len(self.input_word) % 2 != 0: self.input_word.append('x')\n",
        "    for i in range(0, len(self.input_word), 2): \n",
        "      if self.input_word[i] == self.input_word[i+1]:\n",
        "        self.input_word = self.input_word[:i+1] + 'x' + self.input_word[i+1+1:]\n",
        "      pairs.append((self.input_word[i], self.input_word[i+1]))\n",
        "\n",
        "    # encoding a word\n",
        "    for pair in pairs:\n",
        "      if matrix.agrwhere(pair[0])[0] == matrix.argwhere(pair[1])[0]:\n",
        "        # if letters have same X coordinates -- they're in one row\n",
        "        x_matrix = matrix.agrwhere(pair[0])[0] #first letter\n",
        "        y_matrix = matrix.agrwhere(pair[0])[1]\n",
        "        encoded_word += matrix[x_matrix][(y_matrix + 1)%size]\n",
        "        x_matrix = matrix.agrwhere(pair[1])[0] #second letter\n",
        "        y_matrix = matrix.agrwhere(pair[1])[1]\n",
        "        encoded_word += matrix[x_matrix][(y_matrix + 1)%size]\n",
        "      elif matrix.argwhere(pair[0])[1] == matrix.argwhere(pair[1])[1]:\n",
        "        # if letters have same Y coordinates -- they're in one column\n",
        "        x_matrix = matrix.agrwhere(pair[0])[0] #first letter\n",
        "        y_matrix = matrix.agrwhere(pair[0])[1]\n",
        "        encoded_word += matrix[(x_matrix + 1)%size][y_matrix]\n",
        "        x_matrix = matrix.agrwhere(pair[1])[0] #second letter\n",
        "        y_matrix = matrix.agrwhere(pair[1])[1]\n",
        "        encoded_word += matrix[(x_matrix + 1)%size][y_matrix]\n",
        "      else:\n",
        "        # if letters creates a rectangle\n",
        "        x_matrix_first = matrix.agrwhere(pair[0])[0] #first letter \n",
        "        y_matrix_first = matrix.agrwhere(pair[0])[1]\n",
        "        x_matrix_second = matrix.agrwhere(pair[1])[0] #second letter\n",
        "        y_matrix_second = matrix.agrwhere(pair[1])[1]\n",
        "        encoded_word += matrix[x_matrix_first][y_matrix_second]\n",
        "        encoded_word += matrix[x_matrix_second][y_matrix_first]\n",
        "\n",
        "      return encoded_word\n",
        "        \n",
        "\n",
        "\n",
        "  def caesar(self):\n",
        "    alph = 'abcdefghijklmnopqrstuvwxyz'\n",
        "    key = int(input('write down the key for caesar cipher: '))\n",
        "    encoded_word = ''\n",
        "    for letter in self.input_word:\n",
        "        if letter.isalpha(): \n",
        "            encoded_word += alph[(alph.index(letter)+key)%len(alph)]\n",
        "        else:\n",
        "            encoded_word += letter\n",
        "    with open('output.txt', 'w') as outfile:\n",
        "        outfile.write(encoded_word)\n",
        "        print('your word ''%s'' was successfully encoded and loaded into the output.txt file' % word_to_encode)\n",
        "    return encoded_word\n",
        "\n",
        "    def vigenere(self):\n",
        "      alph = 'abcdefghijklmnopqrstuvwxyz'\n",
        "      key = 'dog'\n",
        "      looped_key = ''\n",
        "      encoded_word = ''\n",
        "      for i in range(0, len(self.input_word)):\n",
        "          i = i % len(key)\n",
        "          looped_key += key[i]\n",
        "\n",
        "      for i in range(0, len(self.input_word)):\n",
        "          if self.input_word[i].isalpha():\n",
        "              encoded_word += alph[(alph.index(self.input_word[i]) + alph.index(looped_key[i]))%len(alph)]\n",
        "          else:\n",
        "              encoded_word += self.input_word[i]\n",
        "\n",
        "      with open('output.txt', 'w') as outfile:\n",
        "          outfile.write(encoded_word)\n",
        "          print('your word ''%s'' was successfully encoded and loaded into the output.txt file' % self.input_word)\n",
        "      return encoded_word\n",
        "\n",
        "  def encode(self):\n",
        "    while True:\n",
        "      cipher = input('write the needed cipher, please: caesar, vigenere or playfair? ')\n",
        "      if cipher == 'caesar': \n",
        "          encoded_word = caesar()\n",
        "          break\n",
        "      if cipher == 'vigenere':\n",
        "          encoded_word = vigenere()\n",
        "          break\n",
        "      if cipher == 'playfair':\n",
        "          encoded_word = playfair()\n",
        "          break\n",
        "      else:\n",
        "          print('wrong cipher name -- try again')\n",
        "      break\n",
        "    return encoded_word\n",
        "  \n",
        "  def decode():\n",
        "    return decoded_word"
      ],
      "execution_count": 0,
      "outputs": []
    },
    {
      "cell_type": "code",
      "metadata": {
        "id": "MANC5xlE9FID",
        "colab_type": "code",
        "colab": {
          "base_uri": "https://localhost:8080/",
          "height": 34
        },
        "outputId": "3ed7e7bc-eccb-456a-9f0f-3b2dd0a1734b"
      },
      "source": [
        "input_word = \"meeetmeatnoon\"\n",
        "pairs = []\n",
        "if len(input_word) % 2 != 0: input_word += \"x\"\n",
        "for i in range(0, len(input_word), 2): \n",
        "  if input_word[i] == input_word[i+1]:\n",
        "    input_word = input_word[:i+1] + 'x' + input_word[i+1+1:]\n",
        "  pairs.append((input_word[i], input_word[i+1]))\n",
        "\n",
        "print(pairs)"
      ],
      "execution_count": 7,
      "outputs": [
        {
          "output_type": "stream",
          "text": [
            "[('m', 'e'), ('e', 'x'), ('t', 'm'), ('e', 'a'), ('t', 'n'), ('o', 'x'), ('n', 'x')]\n"
          ],
          "name": "stdout"
        }
      ]
    },
    {
      "cell_type": "code",
      "metadata": {
        "id": "JyVFdPkdun60",
        "colab_type": "code",
        "colab": {}
      },
      "source": [
        "def console(crypto):\n",
        "  print('hello! here you can encode and decode your word. note: it only works with english words')\n",
        "  print('to exit the program write \"exit\"')\n",
        "  print('and also check if the word you want to encode is in the file input.txt')\n",
        "  command = input('encode or decode? write your command here: ')\n",
        "  while True:\n",
        "      if command == 'encode': crypto.encode()\n",
        "      if command == 'decode': crypto.decode() \n",
        "      if command == 'exit': break\n",
        "      else: print('unindentified command! try again')\n",
        "  return"
      ],
      "execution_count": 0,
      "outputs": []
    },
    {
      "cell_type": "code",
      "metadata": {
        "id": "nnXxYEhJugqB",
        "colab_type": "code",
        "outputId": "45c8176a-38da-45c5-8411-bf5990af7ba7",
        "colab": {
          "base_uri": "https://localhost:8080/",
          "height": 337
        }
      },
      "source": [
        "if __name__ == '__main__':\n",
        "  crypto = Coding()\n",
        "  console(crypto)"
      ],
      "execution_count": 12,
      "outputs": [
        {
          "output_type": "error",
          "ename": "FileNotFoundError",
          "evalue": "ignored",
          "traceback": [
            "\u001b[0;31m---------------------------------------------------------------------------\u001b[0m",
            "\u001b[0;31mFileNotFoundError\u001b[0m                         Traceback (most recent call last)",
            "\u001b[0;32m<ipython-input-12-8b7db71d8007>\u001b[0m in \u001b[0;36m<module>\u001b[0;34m()\u001b[0m\n\u001b[1;32m      1\u001b[0m \u001b[0;32mif\u001b[0m \u001b[0m__name__\u001b[0m \u001b[0;34m==\u001b[0m \u001b[0;34m'__main__'\u001b[0m\u001b[0;34m:\u001b[0m\u001b[0;34m\u001b[0m\u001b[0;34m\u001b[0m\u001b[0m\n\u001b[0;32m----> 2\u001b[0;31m   \u001b[0mcrypto\u001b[0m \u001b[0;34m=\u001b[0m \u001b[0mCoding\u001b[0m\u001b[0;34m(\u001b[0m\u001b[0;34m)\u001b[0m\u001b[0;34m\u001b[0m\u001b[0;34m\u001b[0m\u001b[0m\n\u001b[0m\u001b[1;32m      3\u001b[0m   \u001b[0mconsole\u001b[0m\u001b[0;34m(\u001b[0m\u001b[0mcrypto\u001b[0m\u001b[0;34m)\u001b[0m\u001b[0;34m\u001b[0m\u001b[0;34m\u001b[0m\u001b[0m\n",
            "\u001b[0;32m<ipython-input-10-1024f87b6231>\u001b[0m in \u001b[0;36m__init__\u001b[0;34m(self)\u001b[0m\n\u001b[1;32m      1\u001b[0m \u001b[0;32mclass\u001b[0m \u001b[0mCoding\u001b[0m\u001b[0;34m:\u001b[0m\u001b[0;34m\u001b[0m\u001b[0;34m\u001b[0m\u001b[0m\n\u001b[1;32m      2\u001b[0m   \u001b[0;32mdef\u001b[0m \u001b[0m__init__\u001b[0m\u001b[0;34m(\u001b[0m\u001b[0mself\u001b[0m\u001b[0;34m)\u001b[0m\u001b[0;34m:\u001b[0m\u001b[0;34m\u001b[0m\u001b[0;34m\u001b[0m\u001b[0m\n\u001b[0;32m----> 3\u001b[0;31m     \u001b[0mself\u001b[0m\u001b[0;34m.\u001b[0m\u001b[0minput_word\u001b[0m \u001b[0;34m=\u001b[0m \u001b[0mself\u001b[0m\u001b[0;34m.\u001b[0m\u001b[0mload\u001b[0m\u001b[0;34m(\u001b[0m\u001b[0;34m)\u001b[0m\u001b[0;34m\u001b[0m\u001b[0;34m\u001b[0m\u001b[0m\n\u001b[0m\u001b[1;32m      4\u001b[0m     \u001b[0mself\u001b[0m\u001b[0;34m.\u001b[0m\u001b[0mencoded_word\u001b[0m \u001b[0;34m=\u001b[0m \u001b[0mself\u001b[0m\u001b[0;34m.\u001b[0m\u001b[0mencode\u001b[0m\u001b[0;34m(\u001b[0m\u001b[0;34m)\u001b[0m\u001b[0;34m\u001b[0m\u001b[0;34m\u001b[0m\u001b[0m\n\u001b[1;32m      5\u001b[0m     \u001b[0mself\u001b[0m\u001b[0;34m.\u001b[0m\u001b[0mdecoded_word\u001b[0m \u001b[0;34m=\u001b[0m \u001b[0mself\u001b[0m\u001b[0;34m.\u001b[0m\u001b[0mdecode\u001b[0m\u001b[0;34m(\u001b[0m\u001b[0;34m)\u001b[0m\u001b[0;34m\u001b[0m\u001b[0;34m\u001b[0m\u001b[0m\n",
            "\u001b[0;32m<ipython-input-10-1024f87b6231>\u001b[0m in \u001b[0;36mload\u001b[0;34m(self)\u001b[0m\n\u001b[1;32m      8\u001b[0m     \u001b[0mfile_name\u001b[0m \u001b[0;34m=\u001b[0m \u001b[0;34m\"input.txt\"\u001b[0m\u001b[0;34m\u001b[0m\u001b[0;34m\u001b[0m\u001b[0m\n\u001b[1;32m      9\u001b[0m     \u001b[0minput_word\u001b[0m \u001b[0;34m=\u001b[0m \u001b[0;34m\"\"\u001b[0m\u001b[0;34m\u001b[0m\u001b[0;34m\u001b[0m\u001b[0m\n\u001b[0;32m---> 10\u001b[0;31m     \u001b[0;32mwith\u001b[0m \u001b[0mopen\u001b[0m\u001b[0;34m(\u001b[0m\u001b[0mfile_name\u001b[0m\u001b[0;34m,\u001b[0m \u001b[0;34m'r'\u001b[0m\u001b[0;34m)\u001b[0m \u001b[0;32mas\u001b[0m \u001b[0mfile\u001b[0m\u001b[0;34m:\u001b[0m\u001b[0;34m\u001b[0m\u001b[0;34m\u001b[0m\u001b[0m\n\u001b[0m\u001b[1;32m     11\u001b[0m       \u001b[0minput_word\u001b[0m \u001b[0;34m=\u001b[0m \u001b[0mfile\u001b[0m\u001b[0;34m.\u001b[0m\u001b[0mread\u001b[0m\u001b[0;34m(\u001b[0m\u001b[0;34m)\u001b[0m\u001b[0;34m.\u001b[0m\u001b[0mreplace\u001b[0m\u001b[0;34m(\u001b[0m\u001b[0;34m' '\u001b[0m\u001b[0;34m,\u001b[0m \u001b[0;34m''\u001b[0m\u001b[0;34m)\u001b[0m\u001b[0;34m.\u001b[0m\u001b[0mlower\u001b[0m\u001b[0;34m(\u001b[0m\u001b[0;34m)\u001b[0m\u001b[0;34m\u001b[0m\u001b[0;34m\u001b[0m\u001b[0m\n\u001b[1;32m     12\u001b[0m     \u001b[0;32mreturn\u001b[0m \u001b[0minput_word\u001b[0m\u001b[0;34m\u001b[0m\u001b[0;34m\u001b[0m\u001b[0m\n",
            "\u001b[0;31mFileNotFoundError\u001b[0m: [Errno 2] No such file or directory: 'input.txt'"
          ]
        }
      ]
    }
  ]
}