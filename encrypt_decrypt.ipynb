{
  "nbformat": 4,
  "nbformat_minor": 0,
  "metadata": {
    "colab": {
      "name": "Шифрование.ipynb",
      "provenance": [],
      "collapsed_sections": [],
      "authorship_tag": "ABX9TyOMcD2TmoNGFOwTRPUOfGHZ",
      "include_colab_link": true
    },
    "kernelspec": {
      "name": "python3",
      "display_name": "Python 3"
    }
  },
  "cells": [
    {
      "cell_type": "markdown",
      "metadata": {
        "id": "view-in-github",
        "colab_type": "text"
      },
      "source": [
        "<a href=\"https://colab.research.google.com/github/ellkrauze/bingestudying101/blob/master/%D0%A8%D0%B8%D1%84%D1%80%D0%BE%D0%B2%D0%B0%D0%BD%D0%B8%D0%B5.ipynb\" target=\"_parent\"><img src=\"https://colab.research.google.com/assets/colab-badge.svg\" alt=\"Open In Colab\"/></a>"
      ]
    },
    {
      "cell_type": "code",
      "metadata": {
        "id": "MNFpgxwD83YR",
        "colab_type": "code",
        "colab": {}
      },
      "source": [
        "import numpy as np"
      ],
      "execution_count": 0,
      "outputs": []
    },
    {
      "cell_type": "code",
      "metadata": {
        "id": "6VS63wZN9Mv3",
        "colab_type": "code",
        "colab": {}
      },
      "source": [
        "def playfair(word_to_encode):\n",
        "    alph = 'abcdefghiklmnopqrstuvwxyz' # alphabet without j-letter\n",
        "    key = 'lemon'\n",
        "    size = 5\n",
        "    key_index = 0\n",
        "    alph_index = 0\n",
        "    matrix = np.zeros((size, size))\n",
        "    \n",
        "    for letter in alph:\n",
        "      if letter in key:\n",
        "        alph = alph.replace(letter,'')\n",
        "\n",
        "    for x in range(size): \n",
        "        for y in range(size):\n",
        "            if key_index != len(key):\n",
        "              matrix[x][y] = key[key_index]\n",
        "              key_index += 1\n",
        "            else:\n",
        "              matrix[x][y] = alph[alph_index]\n",
        "              alph_index += 1\n",
        "\n",
        "    word_to_encode = word_to_encode.replace(' ', '').lower()\n",
        "    for i in range(0, len(word_to_encode), 2):\n",
        "      if matrix.argwhere(word_to_encode[i])[0] == matrix.argwhere(word_to_encode[i+1])[0]:\n",
        "        # are placed in one row\n",
        "      else if matrix.argwhere(word_to_encode[i])[1] == matrix.argwhere(word_to_encode[i+1])[1]:\n",
        "        # are placed in one column\n",
        "      else:\n",
        "        # create rectangle\n",
        "    return "
      ],
      "execution_count": 0,
      "outputs": []
    },
    {
      "cell_type": "code",
      "metadata": {
        "id": "S0kw03zC9JcH",
        "colab_type": "code",
        "colab": {}
      },
      "source": [
        "def vigenere(word_to_encode):\n",
        "    alph = 'abcdefghijklmnopqrstuvwxyz'\n",
        "    key = 'dog'\n",
        "    looped_key = ''\n",
        "    encoded_word = ''\n",
        "    for i in range(0, len(word_to_encode)):\n",
        "        i = i % len(key)\n",
        "        looped_key += key[i]\n",
        "\n",
        "    for i in range(0, len(word_to_encode)):\n",
        "        if word_to_encode[i].isalpha():\n",
        "            encoded_word += alph[(alph.index(word_to_encode[i]) + alph.index(looped_key[i]))%len(alph)]\n",
        "        else:\n",
        "            encoded_word += word_to_encode[i]\n",
        "\n",
        "    with open('output.txt', 'w') as outfile:\n",
        "        outfile.write(encoded_word)\n",
        "        print('your word ''%s'' was successfully encoded and loaded into the output.txt file' % word_to_encode)\n",
        "    return \n"
      ],
      "execution_count": 0,
      "outputs": []
    },
    {
      "cell_type": "code",
      "metadata": {
        "id": "hTLjoE729G3-",
        "colab_type": "code",
        "colab": {}
      },
      "source": [
        "def caesar(word_to_encode):\n",
        "    alph = 'abcdefghijklmnopqrstuvwxyz'\n",
        "    key = int(input('write down the key for caesar cipher: '))\n",
        "    encoded_word = ''\n",
        "    for letter in word_to_encode:\n",
        "        if letter.isalpha(): \n",
        "            encoded_word += alph[(alph.index(letter)+key)%len(alph)]\n",
        "        else:\n",
        "            encoded_word += letter\n",
        "    with open('output.txt', 'w') as outfile:\n",
        "        outfile.write(encoded_word)\n",
        "        print('your word ''%s'' was successfully encoded and loaded into the output.txt file' % word_to_encode)\n",
        "    return"
      ],
      "execution_count": 0,
      "outputs": []
    },
    {
      "cell_type": "code",
      "metadata": {
        "id": "r8uQgLW99HBq",
        "colab_type": "code",
        "colab": {}
      },
      "source": [
        "def decode():\n",
        "    print('check if the word you want to encode is in the file input.txt')"
      ],
      "execution_count": 0,
      "outputs": []
    },
    {
      "cell_type": "code",
      "metadata": {
        "id": "_MhRRg44JPcz",
        "colab_type": "code",
        "colab": {}
      },
      "source": [
        "def console():\n",
        "  print('hello! here you can encode and decode your word. note: it only works with english words')\n",
        "  print('to exit the program write \"exit\"')\n",
        "  print('and also check if the word you want to encode is in the file input.txt')\n",
        "  command = input('encode or decode? write your command here: ')\n",
        "  while True:\n",
        "      if command == 'encode':\n",
        "          with open('input.txt', 'r') as infile: \n",
        "              word_to_encode = infile.read()\n",
        "              while True:\n",
        "                  cipher = input('write the needed cipher, please: caesar, vigenere or playfair? ')\n",
        "                  if cipher == 'caesar': \n",
        "                      caesar(word_to_encode)\n",
        "                      break\n",
        "                  if cipher == 'vigenere':\n",
        "                      vigenere(word_to_encode)\n",
        "                      break\n",
        "                  if cipher == 'playfair':\n",
        "                      playfair(word_to_encode)\n",
        "                      break\n",
        "                  else:\n",
        "                      print('wrong cipher name -- try again')\n",
        "              break\n",
        "      if command == 'decode':\n",
        "          decode() \n",
        "      if command == 'exit': break\n",
        "      else: print('unindentified command! try again')\n",
        "  return"
      ],
      "execution_count": 0,
      "outputs": []
    },
    {
      "cell_type": "code",
      "metadata": {
        "id": "uZIawN-E9GEG",
        "colab_type": "code",
        "colab": {}
      },
      "source": [
        "if __name__ == '__main__':\n",
        "    console()"
      ],
      "execution_count": 0,
      "outputs": []
    }
  ]
}
